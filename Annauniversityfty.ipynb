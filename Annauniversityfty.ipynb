{
  "nbformat": 4,
  "nbformat_minor": 0,
  "metadata": {
    "colab": {
      "provenance": [],
      "authorship_tag": "ABX9TyP/8ZIOmx26PAIZVRnpdN0X",
      "include_colab_link": true
    },
    "kernelspec": {
      "name": "python3",
      "display_name": "Python 3"
    },
    "language_info": {
      "name": "python"
    }
  },
  "cells": [
    {
      "cell_type": "markdown",
      "metadata": {
        "id": "view-in-github",
        "colab_type": "text"
      },
      "source": [
        "<a href=\"https://colab.research.google.com/github/saktheeswaranswan/A.-P.-J.-Abdul-Kalam-Scientist-formula-inventor-code-by-symbolic-curve-fitting-software-/blob/main/Annauniversityfty.ipynb\" target=\"_parent\"><img src=\"https://colab.research.google.com/assets/colab-badge.svg\" alt=\"Open In Colab\"/></a>"
      ]
    },
    {
      "cell_type": "code",
      "execution_count": null,
      "metadata": {
        "id": "OIyr4Cv5NliD"
      },
      "outputs": [],
      "source": [
        "import numpy as np\n",
        "from stl import mesh\n",
        "from PIL import Image\n",
        "\n",
        "def create_uv_mapping(width, height, num_polygons):\n",
        "    u = np.linspace(0, 1, width)\n",
        "    v = np.linspace(0, 1, height)\n",
        "    uv_mapping = np.zeros((num_polygons, height, width, 2))\n",
        "    for i in range(num_polygons):\n",
        "        for j in range(height):\n",
        "            for k in range(width):\n",
        "                uv_mapping[i, j, k, 0] = u[k]\n",
        "                uv_mapping[i, j, k, 1] = v[j]\n",
        "    return uv_mapping\n",
        "\n",
        "def create_mesh_with_uv_mapping(uv_mapping, image_paths):\n",
        "    num_polygons, height, width, _ = uv_mapping.shape\n",
        "    vertices = []\n",
        "    faces = []\n",
        "    for i in range(num_polygons):\n",
        "        # Load the image\n",
        "        image = Image.open(image_paths[i]).convert('RGB')\n",
        "        image_width, image_height = image.size\n",
        "\n",
        "        # Calculate vertex positions based on UV mapping\n",
        "        for j in range(height):\n",
        "            for k in range(width):\n",
        "                u, v = uv_mapping[i, j, k]\n",
        "                x = u * image_width\n",
        "                y = v * image_height\n",
        "                vertices.append([x, y, 0])\n",
        "\n",
        "        # Calculate faces\n",
        "        for j in range(height - 1):\n",
        "            for k in range(width - 1):\n",
        "                v1 = j * width + k\n",
        "                v2 = v1 + 1\n",
        "                v3 = v1 + width\n",
        "                v4 = v3 + 1\n",
        "                face = [v1, v2, v3]\n",
        "                faces.append(face)\n",
        "                face = [v2, v4, v3]\n",
        "                faces.append(face)\n",
        "\n",
        "    # Create the mesh\n",
        "    mesh_data = mesh.Mesh(np.zeros(len(faces), dtype=mesh.Mesh.dtype))\n",
        "    for i, face in enumerate(faces):\n",
        "        for j in range(3):\n",
        "            mesh_data.vectors[i][j] = vertices[face[j]]\n",
        "    return mesh_data\n",
        "\n",
        "def export_stl_with_uv_mapping(mesh_data, output_path):\n",
        "    mesh_data.save(output_path)\n",
        "\n",
        "# Example usage\n",
        "image_paths = ['image1.jpg', 'image2.jpg', 'image3.jpg', 'image4.jpg']  # Provide image paths for each polygon\n",
        "uv_mapping = create_uv_mapping(4, 4, len(image_paths))  # 4x4 UV mapping for each polygon\n",
        "mesh_data = create_mesh_with_uv_mapping(uv_mapping, image_paths)\n",
        "export_stl_with_uv_mapping(mesh_data, 'output.stl')\n"
      ]
    }
  ]
}