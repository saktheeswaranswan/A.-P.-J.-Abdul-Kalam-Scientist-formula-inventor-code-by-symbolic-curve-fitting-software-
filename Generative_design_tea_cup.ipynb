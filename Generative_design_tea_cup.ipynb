{
  "nbformat": 4,
  "nbformat_minor": 0,
  "metadata": {
    "colab": {
      "provenance": [],
      "authorship_tag": "ABX9TyNy4wFBjzB2zKwja1fHv9s1",
      "include_colab_link": true
    },
    "kernelspec": {
      "name": "python3",
      "display_name": "Python 3"
    },
    "language_info": {
      "name": "python"
    }
  },
  "cells": [
    {
      "cell_type": "markdown",
      "metadata": {
        "id": "view-in-github",
        "colab_type": "text"
      },
      "source": [
        "<a href=\"https://colab.research.google.com/github/saktheeswaranswan/A.-P.-J.-Abdul-Kalam-Scientist-formula-inventor-code-by-symbolic-curve-fitting-software-/blob/main/Generative_design_tea_cup.ipynb\" target=\"_parent\"><img src=\"https://colab.research.google.com/assets/colab-badge.svg\" alt=\"Open In Colab\"/></a>"
      ]
    },
    {
      "cell_type": "code",
      "execution_count": 2,
      "metadata": {
        "colab": {
          "base_uri": "https://localhost:8080/"
        },
        "id": "qvlSGS4dBqRH",
        "outputId": "bd525a2d-1956-4d57-8b06-e38a49b3caa1"
      },
      "outputs": [
        {
          "output_type": "stream",
          "name": "stdout",
          "text": [
            "Generated Equation:\n",
            "f(x, y, z) := sin(x) + sin(y) + sin(z) - 36 * (sqrt((x - 1.2345)^2 + (y - -0.4627)^2 + (z - 0.5446)^2) + sqrt((x - -1.3437)^2 + (y - 2.4717)^2 + (z - -0.2092)^2) + sqrt((x - -1.7162)^2 + (y - 2.7907)^2 + (z - -0.0946)^2) + sqrt((x - 0.3224)^2 + (y - 0.0115)^2 + (z - 1.0038)^2) + sqrt((x - 1.3790)^2 + (y - 0.7788)^2 + (z - -0.0861)^2) + sqrt((x - -0.4831)^2 + (y - -2.4151)^2 + (z - -1.1785)^2) + sqrt((x - 3.0207)^2 + (y - -1.1480)^2 + (z - -1.2320)^2) + sqrt((x - 1.1613)^2 + (y - -0.5352)^2 + (z - 0.7018)^2) + sqrt((x - -0.1198)^2 + (y - 2.3016)^2 + (z - 0.2883)^2) + sqrt((x - -0.6778)^2 + (y - -1.5679)^2 + (z - 0.7817)^2) + sqrt((x - -0.9853)^2 + (y - -0.1066)^2 + (z - -0.2342)^2) + sqrt((x - 1.4392)^2 + (y - 3.0509)^2 + (z - 0.1923)^2) + sqrt((x - -0.3860)^2 + (y - 0.1224)^2 + (z - -0.0648)^2) + sqrt((x - -2.7666)^2 + (y - 0.7093)^2 + (z - -0.1195)^2) + sqrt((x - -0.6406)^2 + (y - -2.3837)^2 + (z - -0.3407)^2) + sqrt((x - 1.4954)^2 + (y - 2.0505)^2 + (z - 0.1767)^2) + sqrt((x - -1.9950)^2 + (y - 0.6475)^2 + (z - -0.1152)^2) + sqrt((x - -2.0392)^2 + (y - 0.2832)^2 + (z - 1.3170)^2) + sqrt((x - 0.1982)^2 + (y - -0.9879)^2 + (z - 1.2762)^2) + sqrt((x - 0.2000)^2 + (y - -1.2307)^2 + (z - 0.0402)^2) + sqrt((x - 0.8445)^2 + (y - -0.5214)^2 + (z - -0.9513)^2) + sqrt((x - 2.1955)^2 + (y - 1.1391)^2 + (z - 1.0945)^2) + sqrt((x - 1.4103)^2 + (y - 2.3591)^2 + (z - 1.8208)^2) + sqrt((x - 0.6976)^2 + (y - 0.0655)^2 + (z - -0.4815)^2) + sqrt((x - 1.3977)^2 + (y - 1.0638)^2 + (z - 0.9615)^2) + sqrt((x - -1.1124)^2 + (y - 0.5400)^2 + (z - -0.4792)^2) + sqrt((x - -0.8684)^2 + (y - 0.7848)^2 + (z - -0.1215)^2) + sqrt((x - -1.7074)^2 + (y - 1.0976)^2 + (z - 1.0286)^2) + sqrt((x - -1.2961)^2 + (y - 2.1510)^2 + (z - -0.6639)^2) + sqrt((x - 0.8229)^2 + (y - -2.6189)^2 + (z - -0.9695)^2) + sqrt((x - -2.5629)^2 + (y - 1.6568)^2 + (z - -0.8179)^2) + sqrt((x - -0.4166)^2 + (y - -1.6106)^2 + (z - -0.3624)^2) + sqrt((x - -0.4344)^2 + (y - -1.9213)^2 + (z - 0.3518)^2) + sqrt((x - -0.0397)^2 + (y - 0.4553)^2 + (z - 0.1628)^2) + sqrt((x - -0.4660)^2 + (y - -2.5402)^2 + (z - -0.7886)^2) + sqrt((x - -1.1796)^2 + (y - 2.4211)^2 + (z - 0.2117)^2))\n"
          ]
        }
      ],
      "source": [
        "import numpy as np\n",
        "\n",
        "# Define the number of eggs and the sine wave parameters\n",
        "num_eggs = 36\n",
        "amplitude = 1.0\n",
        "frequency = 6.0\n",
        "\n",
        "# Generate random positions for the eggs within the trough of the sine wave\n",
        "np.random.seed(123)  # For reproducibility\n",
        "x_positions = np.random.uniform(low=-np.pi, high=np.pi, size=num_eggs)\n",
        "y_positions = np.random.uniform(low=-np.pi, high=np.pi, size=num_eggs)\n",
        "z_positions = amplitude * np.sin(frequency * x_positions) + amplitude * np.sin(frequency * y_positions)\n",
        "\n",
        "# Construct the equation string with substituted positions in wxMaxima format\n",
        "equation = \"f(x, y, z) := sin(x) + sin(y) + sin(z) - 36 * (\"\n",
        "for i in range(num_eggs):\n",
        "    equation += \"sqrt((x - {:.4f})^2 + (y - {:.4f})^2 + (z - {:.4f})^2)\".format(\n",
        "        x_positions[i], y_positions[i], z_positions[i]\n",
        "    )\n",
        "    if i < num_eggs - 1:\n",
        "        equation += \" + \"\n",
        "    else:\n",
        "        equation += \")\"\n",
        "\n",
        "print(\"Generated Equation:\")\n",
        "print(equation)\n"
      ]
    },
    {
      "cell_type": "code",
      "source": [
        "x^12+y^12-z"
      ],
      "metadata": {
        "id": "lcO7L6c3DRga"
      },
      "execution_count": null,
      "outputs": []
    }
  ]
}